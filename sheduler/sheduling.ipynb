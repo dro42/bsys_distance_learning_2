{
 "cells": [
  {
   "cell_type": "code",
   "execution_count": null,
   "outputs": [],
   "source": [
    "\n"
   ],
   "metadata": {
    "collapsed": false
   },
   "id": "256782bd40217c2f"
  },
  {
   "cell_type": "markdown",
   "source": [],
   "metadata": {
    "collapsed": false
   },
   "id": "f81e30ad5b7cee8"
  },
  {
   "cell_type": "code",
   "execution_count": 1,
   "outputs": [
    {
     "data": {
      "text/plain": "_         1  2  3  4  5  6  7  8  9  10 11 12 13 14 15 16 17 18 19 20 21 22\nProcessID                                                                  \nA                               X              X              X            \nB                         X              X              X        X  X  X  X\nC                X     X           X              X                        \nD                                     X              X                     \nE          X  X                                                            \nF                   X        X              X              X               ",
      "text/html": "<div>\n<style scoped>\n    .dataframe tbody tr th:only-of-type {\n        vertical-align: middle;\n    }\n\n    .dataframe tbody tr th {\n        vertical-align: top;\n    }\n\n    .dataframe thead th {\n        text-align: right;\n    }\n</style>\n<table border=\"1\" class=\"dataframe\">\n  <thead>\n    <tr style=\"text-align: right;\">\n      <th>_</th>\n      <th>1</th>\n      <th>2</th>\n      <th>3</th>\n      <th>4</th>\n      <th>5</th>\n      <th>6</th>\n      <th>7</th>\n      <th>8</th>\n      <th>9</th>\n      <th>10</th>\n      <th>11</th>\n      <th>12</th>\n      <th>13</th>\n      <th>14</th>\n      <th>15</th>\n      <th>16</th>\n      <th>17</th>\n      <th>18</th>\n      <th>19</th>\n      <th>20</th>\n      <th>21</th>\n      <th>22</th>\n    </tr>\n    <tr>\n      <th>ProcessID</th>\n      <th></th>\n      <th></th>\n      <th></th>\n      <th></th>\n      <th></th>\n      <th></th>\n      <th></th>\n      <th></th>\n      <th></th>\n      <th></th>\n      <th></th>\n      <th></th>\n      <th></th>\n      <th></th>\n      <th></th>\n      <th></th>\n      <th></th>\n      <th></th>\n      <th></th>\n      <th></th>\n      <th></th>\n      <th></th>\n    </tr>\n  </thead>\n  <tbody>\n    <tr>\n      <th>A</th>\n      <td></td>\n      <td></td>\n      <td></td>\n      <td></td>\n      <td></td>\n      <td></td>\n      <td></td>\n      <td>X</td>\n      <td></td>\n      <td></td>\n      <td></td>\n      <td></td>\n      <td>X</td>\n      <td></td>\n      <td></td>\n      <td></td>\n      <td></td>\n      <td>X</td>\n      <td></td>\n      <td></td>\n      <td></td>\n      <td></td>\n    </tr>\n    <tr>\n      <th>B</th>\n      <td></td>\n      <td></td>\n      <td></td>\n      <td></td>\n      <td></td>\n      <td>X</td>\n      <td></td>\n      <td></td>\n      <td></td>\n      <td></td>\n      <td>X</td>\n      <td></td>\n      <td></td>\n      <td></td>\n      <td></td>\n      <td>X</td>\n      <td></td>\n      <td></td>\n      <td>X</td>\n      <td>X</td>\n      <td>X</td>\n      <td>X</td>\n    </tr>\n    <tr>\n      <th>C</th>\n      <td></td>\n      <td></td>\n      <td>X</td>\n      <td></td>\n      <td>X</td>\n      <td></td>\n      <td></td>\n      <td></td>\n      <td>X</td>\n      <td></td>\n      <td></td>\n      <td></td>\n      <td></td>\n      <td>X</td>\n      <td></td>\n      <td></td>\n      <td></td>\n      <td></td>\n      <td></td>\n      <td></td>\n      <td></td>\n      <td></td>\n    </tr>\n    <tr>\n      <th>D</th>\n      <td></td>\n      <td></td>\n      <td></td>\n      <td></td>\n      <td></td>\n      <td></td>\n      <td></td>\n      <td></td>\n      <td></td>\n      <td>X</td>\n      <td></td>\n      <td></td>\n      <td></td>\n      <td></td>\n      <td>X</td>\n      <td></td>\n      <td></td>\n      <td></td>\n      <td></td>\n      <td></td>\n      <td></td>\n      <td></td>\n    </tr>\n    <tr>\n      <th>E</th>\n      <td>X</td>\n      <td>X</td>\n      <td></td>\n      <td></td>\n      <td></td>\n      <td></td>\n      <td></td>\n      <td></td>\n      <td></td>\n      <td></td>\n      <td></td>\n      <td></td>\n      <td></td>\n      <td></td>\n      <td></td>\n      <td></td>\n      <td></td>\n      <td></td>\n      <td></td>\n      <td></td>\n      <td></td>\n      <td></td>\n    </tr>\n    <tr>\n      <th>F</th>\n      <td></td>\n      <td></td>\n      <td></td>\n      <td>X</td>\n      <td></td>\n      <td></td>\n      <td>X</td>\n      <td></td>\n      <td></td>\n      <td></td>\n      <td></td>\n      <td>X</td>\n      <td></td>\n      <td></td>\n      <td></td>\n      <td></td>\n      <td>X</td>\n      <td></td>\n      <td></td>\n      <td></td>\n      <td></td>\n      <td></td>\n    </tr>\n  </tbody>\n</table>\n</div>"
     },
     "metadata": {},
     "output_type": "display_data"
    }
   ],
   "source": [
    "from collections import deque\n",
    "import pandas as pd\n",
    "from IPython.display import display\n",
    "\n",
    "# Define the time quantum\n",
    "time_quantum = 1\n",
    "# Set pandas display options\n",
    "pd.set_option('display.max_rows', None)\n",
    "pd.set_option('display.max_columns', None)\n",
    "# Process data: ProcessID, ArrivalTime, BurstTime\n",
    "processes = [(\"A\", 4, 3), (\"B\", 3, 7), (\"C\", 1, 4), (\"D\", 5, 2), (\"E\", 0, 2), (\"F\", 2, 4)]\n",
    "\n",
    "# Sort processes by their arrival time\n",
    "processes.sort(key=lambda x: x[1])\n",
    "\n",
    "# Initialize variables\n",
    "queue = deque()\n",
    "current_time = 0\n",
    "timeline = []\n",
    "waiting_time = {process[0]: 0 for process in processes}\n",
    "turnaround_time = {process[0]: 0 for process in processes}\n",
    "remaining_burst_time = {process[0]: process[2] for process in processes}\n",
    "process_arrived = {process[0]: False for process in processes}\n",
    "\n",
    "# Start the round-robin scheduling\n",
    "while any(remaining_burst_time[p] > 0 for p in remaining_burst_time):\n",
    "    # Add processes to the queue that have arrived\n",
    "    for process in processes:\n",
    "        if process[1] <= current_time and not process_arrived[process[0]]:\n",
    "            queue.append(process[0])\n",
    "            process_arrived[process[0]] = True\n",
    "\n",
    "    if queue:\n",
    "        current_process = queue.popleft()\n",
    "        exec_time = min(time_quantum, remaining_burst_time[current_process])\n",
    "        remaining_burst_time[current_process] -= exec_time\n",
    "        timeline.append((current_process, current_time, current_time + exec_time))\n",
    "        current_time += exec_time\n",
    "\n",
    "        if remaining_burst_time[current_process] > 0:\n",
    "            queue.append(current_process)\n",
    "        else:\n",
    "            turnaround_time[current_process] = current_time - [p[1] for p in processes if p[0] == current_process][0]\n",
    "    else:\n",
    "        current_time += 1\n",
    "\n",
    "# Calculate average waiting and turnaround times\n",
    "for process in processes:\n",
    "    process_id = process[0]\n",
    "    arrival_time = process[1]\n",
    "    waiting_time[process_id] = turnaround_time[process_id] - process[2]\n",
    "\n",
    "average_waiting_time = sum(waiting_time.values()) / len(waiting_time)\n",
    "average_turnaround_time = sum(turnaround_time.values()) / len(turnaround_time)\n",
    "\n",
    "# Create a DataFrame for better visualization\n",
    "df_timeline = pd.DataFrame(timeline, columns=[\"ProcessID\", \"StartTime\", \"EndTime\"])\n",
    "df_waiting_turnaround = pd.DataFrame(list(waiting_time.items()), columns=[\"ProcessID\", \"WaitingTime\"])\n",
    "df_waiting_turnaround[\"TurnaroundTime\"] = df_waiting_turnaround[\"ProcessID\"].map(turnaround_time)\n",
    "\n",
    "# Define the maximum time units for the table\n",
    "max_time_units = max(timeline, key=lambda x: x[2])[2]\n",
    "\n",
    "# Initialize the table with empty strings\n",
    "execution_table = {process_id: [\" \" for _ in range(max_time_units)] for process_id in waiting_time}\n",
    "\n",
    "# Fill the table with 'X' where processes are executing\n",
    "for process_id, start, end in timeline:\n",
    "    for time_unit in range(start, end):\n",
    "        execution_table[process_id][time_unit] = \"X\"\n",
    "\n",
    "# Convert the table to a DataFrame for better visualization\n",
    "df_execution_table = pd.DataFrame(execution_table)\n",
    "df_execution_table.index += 1  # Adjusting index to start from 1\n",
    "df_execution_table.index.name = \"_\"\n",
    "df_execution_table.columns.name = \"ProcessID\"\n",
    "\n",
    "# Transpose the DataFrame to swap rows and columns\n",
    "df_execution_transposed = df_execution_table.transpose()\n",
    "\n",
    "# Reordering the columns to display processes in the order A, B, C, D, E, F\n",
    "ordered_processes = ['A', 'B', 'C', 'D', 'E', 'F']\n",
    "df_execution_ordered = df_execution_transposed.loc[ordered_processes]\n",
    "\n",
    "# Styling and displaying the DataFrame directly\n",
    "styled_df = df_execution_ordered.style.map(\n",
    "    lambda x: 'background-color: lightgreen' if x == 'X' else 'background-color: white'\n",
    ")\n",
    "display(df_execution_ordered)"
   ],
   "metadata": {
    "collapsed": false,
    "ExecuteTime": {
     "end_time": "2023-12-27T01:28:45.140298Z",
     "start_time": "2023-12-27T01:28:44.822384Z"
    }
   },
   "id": "88ffcb4622aa9e90"
  },
  {
   "cell_type": "code",
   "execution_count": 31,
   "outputs": [
    {
     "name": "stdout",
     "output_type": "stream",
     "text": [
      "Time 1: Process E\n",
      "Time 2: Process E\n",
      "Time 3: Process C\n",
      "Time 4: Process F\n",
      "Time 5: Process C\n",
      "Time 6: Process B\n",
      "Time 7: Process F\n",
      "Time 8: Process A\n",
      "Time 9: Process C\n",
      "Time 10: Process D\n",
      "Time 11: Process B\n",
      "Time 12: Process F\n",
      "Time 13: Process A\n",
      "Time 14: Process C\n",
      "Time 15: Process D\n",
      "Time 16: Process B\n",
      "Time 17: Process F\n",
      "Time 18: Process A\n",
      "Time 19: Process B\n",
      "Time 20: Process B\n",
      "Time 21: Process B\n",
      "Time 22: Process B\n"
     ]
    }
   ],
   "source": [],
   "metadata": {
    "collapsed": false,
    "ExecuteTime": {
     "end_time": "2023-12-20T21:52:07.181718Z",
     "start_time": "2023-12-20T21:52:07.171443Z"
    }
   },
   "id": "26fbfc2dd6e65d88"
  },
  {
   "cell_type": "code",
   "execution_count": null,
   "outputs": [],
   "source": [],
   "metadata": {
    "collapsed": false
   },
   "id": "533cf1da99780bb7"
  }
 ],
 "metadata": {
  "kernelspec": {
   "display_name": "Python 3",
   "language": "python",
   "name": "python3"
  },
  "language_info": {
   "codemirror_mode": {
    "name": "ipython",
    "version": 2
   },
   "file_extension": ".py",
   "mimetype": "text/x-python",
   "name": "python",
   "nbconvert_exporter": "python",
   "pygments_lexer": "ipython2",
   "version": "2.7.6"
  }
 },
 "nbformat": 4,
 "nbformat_minor": 5
}
